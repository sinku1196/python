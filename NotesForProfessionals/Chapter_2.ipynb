{
 "cells": [
  {
   "cell_type": "markdown",
   "metadata": {},
   "source": [
    "# Chapter 2: Python Data Types\n",
    "\n",
    "Data types are nothing but variables you use to reserve some space in memory. Python variables do not need an explicit declartion to reserve memory space. The declaration happens automatically when you assign a value to a variable.\n",
    "\n",
    "## Section 2.1: String Data Type\n",
    "\n",
    "String are identified as a contiguos set of characters represented in the quotation marks. Python allows for either pairs od single or double quotes. Strings are immutable sequence data type, i.e. each time makes any changes to a string, completely new string object is created."
   ]
  },
  {
   "cell_type": "code",
   "execution_count": 1,
   "metadata": {},
   "outputs": [
    {
     "name": "stdout",
     "output_type": "stream",
     "text": [
      "Hello World\n"
     ]
    }
   ],
   "source": [
    "a_str = 'Hello World'\n",
    "print(a_str)"
   ]
  },
  {
   "cell_type": "code",
   "execution_count": 2,
   "metadata": {},
   "outputs": [
    {
     "name": "stdout",
     "output_type": "stream",
     "text": [
      "H\n"
     ]
    }
   ],
   "source": [
    "print(a_str[0])"
   ]
  },
  {
   "cell_type": "code",
   "execution_count": 3,
   "metadata": {},
   "outputs": [
    {
     "name": "stdout",
     "output_type": "stream",
     "text": [
      "Hello\n"
     ]
    }
   ],
   "source": [
    "print(a_str[0:5])"
   ]
  },
  {
   "cell_type": "markdown",
   "metadata": {},
   "source": [
    "## Section 2.2 Set Data Types\n",
    "\n",
    "Sets are unorderd collection of unique objects, there are two types of set:\n",
    "    1. Sets - They are mutable and new elements can be added once sets are defined"
   ]
  },
  {
   "cell_type": "code",
   "execution_count": 4,
   "metadata": {},
   "outputs": [
    {
     "name": "stdout",
     "output_type": "stream",
     "text": [
      "{'apple', 'banana', 'orange', 'pear'}\n"
     ]
    }
   ],
   "source": [
    "basket = {'apple', 'orange', 'apple', 'pear', 'orange', 'banana'}\n",
    "print(basket)"
   ]
  },
  {
   "cell_type": "code",
   "execution_count": 5,
   "metadata": {},
   "outputs": [
    {
     "name": "stdout",
     "output_type": "stream",
     "text": [
      "{'a', 'b', 'r', 'c', 'd'}\n"
     ]
    }
   ],
   "source": [
    "a = set('abracadabra')\n",
    "print(a)"
   ]
  },
  {
   "cell_type": "code",
   "execution_count": 6,
   "metadata": {},
   "outputs": [
    {
     "name": "stdout",
     "output_type": "stream",
     "text": [
      "{'z', 'a', 'b', 'r', 'c', 'd'}\n"
     ]
    }
   ],
   "source": [
    "a.add('z')\n",
    "print(a)"
   ]
  },
  {
   "cell_type": "markdown",
   "metadata": {},
   "source": [
    "2. Frozen Sets - They are immutable and new elements cannot added after its defined"
   ]
  },
  {
   "cell_type": "code",
   "execution_count": 7,
   "metadata": {},
   "outputs": [
    {
     "name": "stdout",
     "output_type": "stream",
     "text": [
      "frozenset({'g', 'a', 'f', 's', 'd'})\n"
     ]
    }
   ],
   "source": [
    "b = frozenset('asdfagsa')\n",
    "print(b)"
   ]
  },
  {
   "cell_type": "code",
   "execution_count": 8,
   "metadata": {},
   "outputs": [
    {
     "name": "stdout",
     "output_type": "stream",
     "text": [
      "frozenset({'Frankfurt', 'Basel', 'Freiburg'})\n"
     ]
    }
   ],
   "source": [
    "cities = frozenset([\"Frankfurt\", \"Basel\", \"Freiburg\"])\n",
    "print(cities)"
   ]
  },
  {
   "cell_type": "markdown",
   "metadata": {},
   "source": [
    "## Section 2.3: Numbers data type\n",
    "\n",
    "Numbers have four types in python. int, float, complex, and long."
   ]
  },
  {
   "cell_type": "code",
   "execution_count": 9,
   "metadata": {},
   "outputs": [
    {
     "name": "stdout",
     "output_type": "stream",
     "text": [
      "<class 'int'>\n",
      "<class 'float'>\n",
      "<class 'complex'>\n",
      "<class 'int'>\n"
     ]
    }
   ],
   "source": [
    "int_num = 10\n",
    "float_num = 10.2\n",
    "complex_num = 3.14j\n",
    "long_num = 1234567\n",
    "print(type(int_num))\n",
    "print(type(float_num))\n",
    "print(type(complex_num))\n",
    "print(type(long_num))"
   ]
  },
  {
   "cell_type": "markdown",
   "metadata": {},
   "source": [
    "## Section 2.4: List Data Type\n",
    "\n",
    "A list contains items separated by commas and enclosed within square brackets []. Lists are almost similar to arrays in C. One difference is that all the items belonging to a list can be of different data type."
   ]
  },
  {
   "cell_type": "code",
   "execution_count": 10,
   "metadata": {},
   "outputs": [
    {
     "name": "stdout",
     "output_type": "stream",
     "text": [
      "[123, 'abcd', 10.2, 'd']\n",
      "[123, 'abcd']\n",
      "['hello', 'world', 'hello', 'world']\n",
      "[123, 'abcd', 10.2, 'd', 'hello', 'world']\n"
     ]
    }
   ],
   "source": [
    "list = [123, 'abcd', 10.2, 'd']\n",
    "list1 = ['hello', 'world']\n",
    "print(list)\n",
    "print(list[0:2])\n",
    "print(list1 * 2)\n",
    "print(list + list1)"
   ]
  },
  {
   "cell_type": "markdown",
   "metadata": {},
   "source": [
    "## Section 2.5: Dictionary Data Type\n",
    "\n",
    "Dictionary consists of key-value pairs. It is enclosed by curly braces {} and values can be accessed using square brackets[]."
   ]
  },
  {
   "cell_type": "code",
   "execution_count": 11,
   "metadata": {},
   "outputs": [
    {
     "name": "stdout",
     "output_type": "stream",
     "text": [
      "{'name': 'red', 'age': 10}\n",
      "red\n",
      "dict_values(['red', 10])\n",
      "dict_keys(['name', 'age'])\n"
     ]
    }
   ],
   "source": [
    "dic = {'name': 'red', 'age': 10}\n",
    "print(dic)\n",
    "print(dic['name'])\n",
    "print(dic.values())\n",
    "print(dic.keys())"
   ]
  },
  {
   "cell_type": "markdown",
   "metadata": {},
   "source": [
    "## Section 2.6: Tuple Data Type\n",
    "\n",
    "Lists are enclosed in brackets [] and their elements and size can be changed, while tuples are enclosed in parenthesis() and cannot be updated. Tuples are immutable."
   ]
  },
  {
   "cell_type": "code",
   "execution_count": 12,
   "metadata": {},
   "outputs": [
    {
     "name": "stdout",
     "output_type": "stream",
     "text": [
      "(123, 'hello')\n",
      "123\n",
      "(123, 'hello') world\n"
     ]
    }
   ],
   "source": [
    "tuple = (123, 'hello')\n",
    "tuple1 = ('world')\n",
    "print(tuple)\n",
    "print(tuple[0])\n",
    "print(tuple, tuple1)\n",
    "#tuple[1] = 'update' # error tuples are immutable"
   ]
  }
 ],
 "metadata": {
  "kernelspec": {
   "display_name": "Python 3",
   "language": "python",
   "name": "python3"
  },
  "language_info": {
   "codemirror_mode": {
    "name": "ipython",
    "version": 3
   },
   "file_extension": ".py",
   "mimetype": "text/x-python",
   "name": "python",
   "nbconvert_exporter": "python",
   "pygments_lexer": "ipython3",
   "version": "3.7.6"
  }
 },
 "nbformat": 4,
 "nbformat_minor": 4
}
