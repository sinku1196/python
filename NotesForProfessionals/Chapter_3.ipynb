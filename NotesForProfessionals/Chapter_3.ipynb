{
 "cells": [
  {
   "cell_type": "markdown",
   "metadata": {},
   "source": [
    "# Chapter 3: Indentation\n",
    "\n",
    "## Section 3.1: Simple example\n",
    "\n",
    "For python, Guido Van Rossum based the grouping of statements on indentation. The reasons for this are explained in the first section of the \"Design and History Python FAQ\". Colons, :, are used to declare an indented code block, such as the following example:"
   ]
  },
  {
   "cell_type": "code",
   "execution_count": 1,
   "metadata": {},
   "outputs": [
    {
     "data": {
      "text/plain": [
       "True"
      ]
     },
     "execution_count": 1,
     "metadata": {},
     "output_type": "execute_result"
    }
   ],
   "source": [
    "class ExampleClass:\n",
    "    # Every function belonging to a class must be indented equally\n",
    "    def __init__(self):\n",
    "        name = \"example\"\n",
    "        \n",
    "    def someFunction(self, a):\n",
    "        # Notice everything belonging to a function must be indented\n",
    "        if a > 5:\n",
    "            return True\n",
    "        else:\n",
    "            return False\n",
    "\n",
    "# If a function is not indented to the same level it will not be considered as part of the parent class\n",
    "def separateFunction(b):\n",
    "    for i in b:\n",
    "        if i == 1:\n",
    "            return True\n",
    "    return False\n",
    "\n",
    "separateFunction([2,3,5,6,1])"
   ]
  },
  {
   "cell_type": "markdown",
   "metadata": {},
   "source": [
    "### Spaces or Tabs?\n",
    "\n",
    "The recommended indentation is 4 spaces but tabs or spaces can be used so long as they are consistent. <b>Do not mix tabs and spaces in python</b> as this will cause an error in Python 3 and can causes errors in Python 2."
   ]
  },
  {
   "cell_type": "markdown",
   "metadata": {},
   "source": [
    "## Section 3.2: How Indentation is Parsed\n",
    "\n",
    "Whitespace is handled by the lexical analyzer before being parsed.\n",
    "\n",
    "The lexical analyzer uses a stack to store indentation levels,. At the begining, the stack contains just the value 0, which is the leftmost position. Whenever a nested block begins, the new indentation level is pushed on the stack, and an \"INDENT\" token is inserted into the token stream which is passed to the parser. There can never be more than one \"INDENT\" token in a row (IndentationError).\n",
    "\n",
    "When a line is encountered with a smaller indentation level, values are popped from the stack until a value is on top which is equal to the new indentation level(if none is found, a syntax error occurs). For each value popped, a \"DEDENT\" token is generated. Obviously, there can be multiple \"DEDENT\" tokens in a row.\n",
    "\n",
    "The lexical analyzer skips empty lines(those containing only whitespaces and possibly comments), and will never generate either \"INDENT\" or \"DEDENT\" tokens for them.\n",
    "\n",
    "At the end of the source code, \"DEDENT\" tokens are generated for each indentation level on the stack, until just the 0 is left.\n",
    "\n",
    "For example:"
   ]
  },
  {
   "cell_type": "code",
   "execution_count": null,
   "metadata": {},
   "outputs": [],
   "source": [
    "if foo:\n",
    "    if bar:\n",
    "        x = 42\n",
    "else:\n",
    "    print foo"
   ]
  },
  {
   "cell_type": "markdown",
   "metadata": {},
   "source": [
    "is analyzed as:"
   ]
  },
  {
   "cell_type": "raw",
   "metadata": {},
   "source": [
    "<if> <foo> <:>               [0]\n",
    "<INDENT> <if> <bar> <:>      [0, 4]\n",
    "<INDENT> <x> <=> <42>        [0, 4, 8]\n",
    "<DEDENT> <DEDENT> <else> <:> [0]\n",
    "<INDENT> <print> <foo>       [0, 2]\n",
    "<DEDENT>"
   ]
  },
  {
   "cell_type": "markdown",
   "metadata": {},
   "source": [
    "The parser than handles the \"INDENT\" and \"DEDENT\" tokens as block delimiters."
   ]
  },
  {
   "cell_type": "markdown",
   "metadata": {},
   "source": [
    "## Section 3.3: Indentation Errors\n",
    "\n",
    "The spacing should be even and uniform throughout. Improper indentation can cause an IndentationError or cause the program to do something unexpected. The following example raises an IndentationError:"
   ]
  },
  {
   "cell_type": "code",
   "execution_count": 8,
   "metadata": {},
   "outputs": [
    {
     "name": "stdout",
     "output_type": "stream",
     "text": [
      "foo\n",
      "Done\n"
     ]
    }
   ],
   "source": [
    "a = 7\n",
    "if a > 5:\n",
    "    print(\"foo\")\n",
    "else:\n",
    "    print(\"Bar\")\n",
    "print(\"Done\")"
   ]
  },
  {
   "cell_type": "markdown",
   "metadata": {},
   "source": [
    "Or if the line following a colon is not indented, an IndentationError will also be raised:"
   ]
  },
  {
   "cell_type": "code",
   "execution_count": 9,
   "metadata": {},
   "outputs": [
    {
     "ename": "IndentationError",
     "evalue": "expected an indented block (<ipython-input-9-ec4b411d8ab1>, line 2)",
     "output_type": "error",
     "traceback": [
      "\u001b[1;36m  File \u001b[1;32m\"<ipython-input-9-ec4b411d8ab1>\"\u001b[1;36m, line \u001b[1;32m2\u001b[0m\n\u001b[1;33m    print(\"True\")\u001b[0m\n\u001b[1;37m        ^\u001b[0m\n\u001b[1;31mIndentationError\u001b[0m\u001b[1;31m:\u001b[0m expected an indented block\n"
     ]
    }
   ],
   "source": [
    "if True:\n",
    "print(\"True\")"
   ]
  },
  {
   "cell_type": "markdown",
   "metadata": {},
   "source": [
    "If you add indentation where doesn't belong, an IndentationError will be raised:"
   ]
  },
  {
   "cell_type": "code",
   "execution_count": 11,
   "metadata": {},
   "outputs": [
    {
     "ename": "IndentationError",
     "evalue": "unexpected indent (<ipython-input-11-88204aaa143e>, line 3)",
     "output_type": "error",
     "traceback": [
      "\u001b[1;36m  File \u001b[1;32m\"<ipython-input-11-88204aaa143e>\"\u001b[1;36m, line \u001b[1;32m3\u001b[0m\n\u001b[1;33m    b = 5\u001b[0m\n\u001b[1;37m    ^\u001b[0m\n\u001b[1;31mIndentationError\u001b[0m\u001b[1;31m:\u001b[0m unexpected indent\n"
     ]
    }
   ],
   "source": [
    "if True:\n",
    "    a = 6\n",
    "        b = 5"
   ]
  },
  {
   "cell_type": "markdown",
   "metadata": {},
   "source": [
    "If you forget to un-indent functionality could be lost. In this example None is returned instead of the expected False:"
   ]
  },
  {
   "cell_type": "code",
   "execution_count": 17,
   "metadata": {},
   "outputs": [
    {
     "name": "stdout",
     "output_type": "stream",
     "text": [
      "None\n"
     ]
    }
   ],
   "source": [
    "def isEven(a):\n",
    "    if a%2 == 0:\n",
    "        return True\n",
    "        # this next line should be even with the if\n",
    "        return False\n",
    "print(isEven(5))"
   ]
  },
  {
   "cell_type": "code",
   "execution_count": 16,
   "metadata": {},
   "outputs": [
    {
     "name": "stdout",
     "output_type": "stream",
     "text": [
      "True\n"
     ]
    }
   ],
   "source": [
    "def isEven(a):\n",
    "    if a%2 == 0:\n",
    "        return True\n",
    "        # this next line should be even with the if\n",
    "    return False\n",
    "print(isEven(6))"
   ]
  },
  {
   "cell_type": "code",
   "execution_count": null,
   "metadata": {},
   "outputs": [],
   "source": []
  }
 ],
 "metadata": {
  "kernelspec": {
   "display_name": "Python 3",
   "language": "python",
   "name": "python3"
  },
  "language_info": {
   "codemirror_mode": {
    "name": "ipython",
    "version": 3
   },
   "file_extension": ".py",
   "mimetype": "text/x-python",
   "name": "python",
   "nbconvert_exporter": "python",
   "pygments_lexer": "ipython3",
   "version": "3.7.6"
  }
 },
 "nbformat": 4,
 "nbformat_minor": 4
}
